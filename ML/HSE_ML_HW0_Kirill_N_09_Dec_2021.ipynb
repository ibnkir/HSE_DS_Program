{
 "cells": [
  {
   "cell_type": "markdown",
   "metadata": {},
   "source": [
    "## ВШЭ, ФКН, Программа \"Специалист по Data Science\" (2021/2022)\n",
    "## Курс \"Машинное обучение\"\n",
    "## ДЗ №0: Введение в ML\n",
    "## Выполнил: Кирилл Н., ibnkir@yandex.ru, 09.12.2021 г.\n",
    "***"
   ]
  },
  {
   "cell_type": "markdown",
   "metadata": {},
   "source": [
    "## Часть 1 - Реализация простейшего kNN-классификатора\n",
    "\n",
    "*Примечание: Часть 2 \"Анализ данных по сердечно-сосудистым заболеваниям\" - см. [ниже](#part2)*"
   ]
  },
  {
   "cell_type": "code",
   "execution_count": 45,
   "metadata": {},
   "outputs": [],
   "source": [
    "import numpy as np\n",
    "import pandas as pd\n",
    "\n",
    "from sklearn.neighbors import KNeighborsClassifier\n",
    "from sklearn.model_selection import KFold\n",
    "from sklearn.metrics import accuracy_score\n",
    "from sklearn.model_selection import cross_val_score\n",
    "from sklearn.preprocessing import scale"
   ]
  },
  {
   "cell_type": "code",
   "execution_count": 46,
   "metadata": {},
   "outputs": [
    {
     "data": {
      "text/html": [
       "<div>\n",
       "<style scoped>\n",
       "    .dataframe tbody tr th:only-of-type {\n",
       "        vertical-align: middle;\n",
       "    }\n",
       "\n",
       "    .dataframe tbody tr th {\n",
       "        vertical-align: top;\n",
       "    }\n",
       "\n",
       "    .dataframe thead th {\n",
       "        text-align: right;\n",
       "    }\n",
       "</style>\n",
       "<table border=\"1\" class=\"dataframe\">\n",
       "  <thead>\n",
       "    <tr style=\"text-align: right;\">\n",
       "      <th></th>\n",
       "      <th>PassengerId</th>\n",
       "      <th>Survived</th>\n",
       "      <th>Pclass</th>\n",
       "      <th>Name</th>\n",
       "      <th>Sex</th>\n",
       "      <th>Age</th>\n",
       "      <th>SibSp</th>\n",
       "      <th>Parch</th>\n",
       "      <th>Ticket</th>\n",
       "      <th>Fare</th>\n",
       "      <th>Cabin</th>\n",
       "      <th>Embarked</th>\n",
       "    </tr>\n",
       "  </thead>\n",
       "  <tbody>\n",
       "    <tr>\n",
       "      <th>0</th>\n",
       "      <td>1</td>\n",
       "      <td>0</td>\n",
       "      <td>3</td>\n",
       "      <td>Braund, Mr. Owen Harris</td>\n",
       "      <td>male</td>\n",
       "      <td>22.0</td>\n",
       "      <td>1</td>\n",
       "      <td>0</td>\n",
       "      <td>A/5 21171</td>\n",
       "      <td>7.2500</td>\n",
       "      <td>NaN</td>\n",
       "      <td>S</td>\n",
       "    </tr>\n",
       "    <tr>\n",
       "      <th>1</th>\n",
       "      <td>2</td>\n",
       "      <td>1</td>\n",
       "      <td>1</td>\n",
       "      <td>Cumings, Mrs. John Bradley (Florence Briggs Th...</td>\n",
       "      <td>female</td>\n",
       "      <td>38.0</td>\n",
       "      <td>1</td>\n",
       "      <td>0</td>\n",
       "      <td>PC 17599</td>\n",
       "      <td>71.2833</td>\n",
       "      <td>C85</td>\n",
       "      <td>C</td>\n",
       "    </tr>\n",
       "    <tr>\n",
       "      <th>2</th>\n",
       "      <td>3</td>\n",
       "      <td>1</td>\n",
       "      <td>3</td>\n",
       "      <td>Heikkinen, Miss. Laina</td>\n",
       "      <td>female</td>\n",
       "      <td>26.0</td>\n",
       "      <td>0</td>\n",
       "      <td>0</td>\n",
       "      <td>STON/O2. 3101282</td>\n",
       "      <td>7.9250</td>\n",
       "      <td>NaN</td>\n",
       "      <td>S</td>\n",
       "    </tr>\n",
       "    <tr>\n",
       "      <th>3</th>\n",
       "      <td>4</td>\n",
       "      <td>1</td>\n",
       "      <td>1</td>\n",
       "      <td>Futrelle, Mrs. Jacques Heath (Lily May Peel)</td>\n",
       "      <td>female</td>\n",
       "      <td>35.0</td>\n",
       "      <td>1</td>\n",
       "      <td>0</td>\n",
       "      <td>113803</td>\n",
       "      <td>53.1000</td>\n",
       "      <td>C123</td>\n",
       "      <td>S</td>\n",
       "    </tr>\n",
       "    <tr>\n",
       "      <th>4</th>\n",
       "      <td>5</td>\n",
       "      <td>0</td>\n",
       "      <td>3</td>\n",
       "      <td>Allen, Mr. William Henry</td>\n",
       "      <td>male</td>\n",
       "      <td>35.0</td>\n",
       "      <td>0</td>\n",
       "      <td>0</td>\n",
       "      <td>373450</td>\n",
       "      <td>8.0500</td>\n",
       "      <td>NaN</td>\n",
       "      <td>S</td>\n",
       "    </tr>\n",
       "  </tbody>\n",
       "</table>\n",
       "</div>"
      ],
      "text/plain": [
       "   PassengerId  Survived  Pclass  \\\n",
       "0            1         0       3   \n",
       "1            2         1       1   \n",
       "2            3         1       3   \n",
       "3            4         1       1   \n",
       "4            5         0       3   \n",
       "\n",
       "                                                Name     Sex   Age  SibSp  \\\n",
       "0                            Braund, Mr. Owen Harris    male  22.0      1   \n",
       "1  Cumings, Mrs. John Bradley (Florence Briggs Th...  female  38.0      1   \n",
       "2                             Heikkinen, Miss. Laina  female  26.0      0   \n",
       "3       Futrelle, Mrs. Jacques Heath (Lily May Peel)  female  35.0      1   \n",
       "4                           Allen, Mr. William Henry    male  35.0      0   \n",
       "\n",
       "   Parch            Ticket     Fare Cabin Embarked  \n",
       "0      0         A/5 21171   7.2500   NaN        S  \n",
       "1      0          PC 17599  71.2833   C85        C  \n",
       "2      0  STON/O2. 3101282   7.9250   NaN        S  \n",
       "3      0            113803  53.1000  C123        S  \n",
       "4      0            373450   8.0500   NaN        S  "
      ]
     },
     "execution_count": 46,
     "metadata": {},
     "output_type": "execute_result"
    }
   ],
   "source": [
    "df_titanic = pd.read_csv('titanic.csv')\n",
    "df_titanic.head()"
   ]
  },
  {
   "cell_type": "code",
   "execution_count": 47,
   "metadata": {
    "scrolled": true
   },
   "outputs": [
    {
     "data": {
      "text/plain": [
       "(891, 12)"
      ]
     },
     "execution_count": 47,
     "metadata": {},
     "output_type": "execute_result"
    }
   ],
   "source": [
    "df_titanic.shape"
   ]
  },
  {
   "cell_type": "code",
   "execution_count": 48,
   "metadata": {},
   "outputs": [
    {
     "name": "stdout",
     "output_type": "stream",
     "text": [
      "<class 'pandas.core.frame.DataFrame'>\n",
      "RangeIndex: 891 entries, 0 to 890\n",
      "Data columns (total 12 columns):\n",
      " #   Column       Non-Null Count  Dtype  \n",
      "---  ------       --------------  -----  \n",
      " 0   PassengerId  891 non-null    int64  \n",
      " 1   Survived     891 non-null    int64  \n",
      " 2   Pclass       891 non-null    int64  \n",
      " 3   Name         891 non-null    object \n",
      " 4   Sex          891 non-null    object \n",
      " 5   Age          714 non-null    float64\n",
      " 6   SibSp        891 non-null    int64  \n",
      " 7   Parch        891 non-null    int64  \n",
      " 8   Ticket       891 non-null    object \n",
      " 9   Fare         891 non-null    float64\n",
      " 10  Cabin        204 non-null    object \n",
      " 11  Embarked     889 non-null    object \n",
      "dtypes: float64(2), int64(5), object(5)\n",
      "memory usage: 83.7+ KB\n"
     ]
    }
   ],
   "source": [
    "df_titanic.info()"
   ]
  },
  {
   "cell_type": "markdown",
   "metadata": {},
   "source": [
    "> Обратите внимание на разное количество значений переменных. Если это так, то у вас пропуски в данных. Такое бывает. \n",
    "Например, в этом датасете не получилось выяснить всех подробностей у некоторых людей ввиду утери данных, невозможности узнать или восстановить их."
   ]
  },
  {
   "cell_type": "code",
   "execution_count": 49,
   "metadata": {},
   "outputs": [
    {
     "data": {
      "text/html": [
       "<div>\n",
       "<style scoped>\n",
       "    .dataframe tbody tr th:only-of-type {\n",
       "        vertical-align: middle;\n",
       "    }\n",
       "\n",
       "    .dataframe tbody tr th {\n",
       "        vertical-align: top;\n",
       "    }\n",
       "\n",
       "    .dataframe thead th {\n",
       "        text-align: right;\n",
       "    }\n",
       "</style>\n",
       "<table border=\"1\" class=\"dataframe\">\n",
       "  <thead>\n",
       "    <tr style=\"text-align: right;\">\n",
       "      <th></th>\n",
       "      <th>PassengerId</th>\n",
       "      <th>Survived</th>\n",
       "      <th>Pclass</th>\n",
       "      <th>Age</th>\n",
       "      <th>SibSp</th>\n",
       "      <th>Parch</th>\n",
       "      <th>Fare</th>\n",
       "    </tr>\n",
       "  </thead>\n",
       "  <tbody>\n",
       "    <tr>\n",
       "      <th>count</th>\n",
       "      <td>891.000000</td>\n",
       "      <td>891.000000</td>\n",
       "      <td>891.000000</td>\n",
       "      <td>714.000000</td>\n",
       "      <td>891.000000</td>\n",
       "      <td>891.000000</td>\n",
       "      <td>891.000000</td>\n",
       "    </tr>\n",
       "    <tr>\n",
       "      <th>mean</th>\n",
       "      <td>446.000000</td>\n",
       "      <td>0.383838</td>\n",
       "      <td>2.308642</td>\n",
       "      <td>29.699118</td>\n",
       "      <td>0.523008</td>\n",
       "      <td>0.381594</td>\n",
       "      <td>32.204208</td>\n",
       "    </tr>\n",
       "    <tr>\n",
       "      <th>std</th>\n",
       "      <td>257.353842</td>\n",
       "      <td>0.486592</td>\n",
       "      <td>0.836071</td>\n",
       "      <td>14.526497</td>\n",
       "      <td>1.102743</td>\n",
       "      <td>0.806057</td>\n",
       "      <td>49.693429</td>\n",
       "    </tr>\n",
       "    <tr>\n",
       "      <th>min</th>\n",
       "      <td>1.000000</td>\n",
       "      <td>0.000000</td>\n",
       "      <td>1.000000</td>\n",
       "      <td>0.420000</td>\n",
       "      <td>0.000000</td>\n",
       "      <td>0.000000</td>\n",
       "      <td>0.000000</td>\n",
       "    </tr>\n",
       "    <tr>\n",
       "      <th>25%</th>\n",
       "      <td>223.500000</td>\n",
       "      <td>0.000000</td>\n",
       "      <td>2.000000</td>\n",
       "      <td>20.125000</td>\n",
       "      <td>0.000000</td>\n",
       "      <td>0.000000</td>\n",
       "      <td>7.910400</td>\n",
       "    </tr>\n",
       "    <tr>\n",
       "      <th>50%</th>\n",
       "      <td>446.000000</td>\n",
       "      <td>0.000000</td>\n",
       "      <td>3.000000</td>\n",
       "      <td>28.000000</td>\n",
       "      <td>0.000000</td>\n",
       "      <td>0.000000</td>\n",
       "      <td>14.454200</td>\n",
       "    </tr>\n",
       "    <tr>\n",
       "      <th>75%</th>\n",
       "      <td>668.500000</td>\n",
       "      <td>1.000000</td>\n",
       "      <td>3.000000</td>\n",
       "      <td>38.000000</td>\n",
       "      <td>1.000000</td>\n",
       "      <td>0.000000</td>\n",
       "      <td>31.000000</td>\n",
       "    </tr>\n",
       "    <tr>\n",
       "      <th>max</th>\n",
       "      <td>891.000000</td>\n",
       "      <td>1.000000</td>\n",
       "      <td>3.000000</td>\n",
       "      <td>80.000000</td>\n",
       "      <td>8.000000</td>\n",
       "      <td>6.000000</td>\n",
       "      <td>512.329200</td>\n",
       "    </tr>\n",
       "  </tbody>\n",
       "</table>\n",
       "</div>"
      ],
      "text/plain": [
       "       PassengerId    Survived      Pclass         Age       SibSp  \\\n",
       "count   891.000000  891.000000  891.000000  714.000000  891.000000   \n",
       "mean    446.000000    0.383838    2.308642   29.699118    0.523008   \n",
       "std     257.353842    0.486592    0.836071   14.526497    1.102743   \n",
       "min       1.000000    0.000000    1.000000    0.420000    0.000000   \n",
       "25%     223.500000    0.000000    2.000000   20.125000    0.000000   \n",
       "50%     446.000000    0.000000    3.000000   28.000000    0.000000   \n",
       "75%     668.500000    1.000000    3.000000   38.000000    1.000000   \n",
       "max     891.000000    1.000000    3.000000   80.000000    8.000000   \n",
       "\n",
       "            Parch        Fare  \n",
       "count  891.000000  891.000000  \n",
       "mean     0.381594   32.204208  \n",
       "std      0.806057   49.693429  \n",
       "min      0.000000    0.000000  \n",
       "25%      0.000000    7.910400  \n",
       "50%      0.000000   14.454200  \n",
       "75%      0.000000   31.000000  \n",
       "max      6.000000  512.329200  "
      ]
     },
     "execution_count": 49,
     "metadata": {},
     "output_type": "execute_result"
    }
   ],
   "source": [
    "df_titanic.describe()"
   ]
  },
  {
   "cell_type": "markdown",
   "metadata": {},
   "source": [
    "**Заполните пропущенные значения чем-нибудь.**\n",
    "\n",
    "На будущее - в sklearn есть такой модуль - http://scikit-learn.org/stable/modules/impute.html, но сейчас можете заполнить пропуски средствами pandas - метод fillna()"
   ]
  },
  {
   "cell_type": "code",
   "execution_count": 50,
   "metadata": {},
   "outputs": [],
   "source": [
    "# Заполняем пропуски для признака Age (заменяем NaN на медианное значение по всей выборке)\n",
    "df_titanic['Age'].fillna(value=df_titanic['Age'].median(), inplace=True)"
   ]
  },
  {
   "cell_type": "markdown",
   "metadata": {},
   "source": [
    "**Заведите бинарный признак is_man, отвечающий за пол. Строковый удалите.**\n",
    "\n",
    "Хинт - есть метод apply()"
   ]
  },
  {
   "cell_type": "code",
   "execution_count": 51,
   "metadata": {},
   "outputs": [],
   "source": [
    "# Добавляем бинарный признак is_man и удаляем строковый столбец Sex\n",
    "df_titanic['is_man'] = df_titanic['Sex'].apply(lambda x: 1 if x=='male' else 0)\n",
    "df_titanic.drop('Sex', axis=1, inplace=True)"
   ]
  },
  {
   "cell_type": "markdown",
   "metadata": {},
   "source": [
    "**Сформируйте трейн и тест выборку, где в X лежат признаки 'is_man', 'Age', 'Pclass', а в у - Survived.**\n",
    "\n",
    "Результат - numpy array."
   ]
  },
  {
   "cell_type": "code",
   "execution_count": 52,
   "metadata": {},
   "outputs": [],
   "source": [
    "x_columns = ['is_man', 'Age', 'Pclass']\n",
    "\n",
    "X_train = df_titanic[x_columns].loc[:500].to_numpy()\n",
    "y_train = df_titanic['Survived'].loc[:500].to_numpy()\n",
    "\n",
    "X_test = df_titanic[x_columns].loc[500:].to_numpy()\n",
    "y_test = df_titanic['Survived'].loc[500:].to_numpy()"
   ]
  },
  {
   "cell_type": "code",
   "execution_count": 53,
   "metadata": {},
   "outputs": [],
   "source": [
    "assert isinstance(X_train, np.ndarray)\n",
    "assert isinstance(X_test, np.ndarray)\n",
    "assert isinstance(y_train, np.ndarray)\n",
    "assert isinstance(y_test, np.ndarray)"
   ]
  },
  {
   "cell_type": "code",
   "execution_count": 54,
   "metadata": {},
   "outputs": [],
   "source": [
    "assert X_train.shape[0] == y_train.shape[0]\n",
    "assert X_test.shape[0] == y_test.shape[0]"
   ]
  },
  {
   "cell_type": "code",
   "execution_count": 55,
   "metadata": {},
   "outputs": [],
   "source": [
    "assert not np.any(np.isnan(X_train)), 'у вас в данных есть пропущенные значения. Заполните их или удалите'\n",
    "assert not np.any(np.isnan(X_test)), 'у вас в данных есть пропущенные значения. Заполните их или удалите'"
   ]
  },
  {
   "cell_type": "markdown",
   "metadata": {},
   "source": [
    "**Реализуйте kNN cами, как делали это на лекции.**\n",
    "\n",
    "Можете улучшить его (например, использовать kd-tree для быстрого поиска ближайших соседей, или обходить соседей и класть расстояния в мин-кучу - тогда вы быстрее будете набирать их, без сортировки)."
   ]
  },
  {
   "cell_type": "code",
   "execution_count": 56,
   "metadata": {},
   "outputs": [],
   "source": [
    "# Простейший вариант классификатора\n",
    "class MyKNNClassifier:\n",
    "    \"\"\"\n",
    "    simple KNN classifier with O(n) complexity for memory,\n",
    "    and O(n log n) complexity - for nn search.\n",
    "    \"\"\"\n",
    "        \n",
    "    def __init__(self, n):\n",
    "        self.n = n\n",
    "        \n",
    "    def fit(self, X, y):\n",
    "        self.X = X\n",
    "        self.y = y\n",
    "        \n",
    "    def predict(self, X):\n",
    "        y_pred = []\n",
    "        \n",
    "        for i in range(len(X)):\n",
    "            dist = [np.dot(X[i]-self.X[j], X[i]-self.X[j]) for j in range(len(self.X))]\n",
    "            idx = np.argsort(dist)[:self.n]\n",
    "            counts = self.y[idx]\n",
    "            y_pred.append(np.mean(counts) > 0.5)\n",
    "            \n",
    "        return(np.array(y_pred))"
   ]
  },
  {
   "cell_type": "code",
   "execution_count": 57,
   "metadata": {},
   "outputs": [
    {
     "name": "stdout",
     "output_type": "stream",
     "text": [
      "Показатель точности: 0.7877\n"
     ]
    }
   ],
   "source": [
    "my_knn_clf = MyKNNClassifier(5)\n",
    "my_knn_clf.fit(X_train, y_train)\n",
    "y_pred = my_knn_clf.predict(X_test)\n",
    "score = np.mean(y_pred == y_test)\n",
    "print('Показатель точности: {:.4f}'.format(score))"
   ]
  },
  {
   "cell_type": "markdown",
   "metadata": {},
   "source": [
    "> Мы получили бейслайн решение. Оно должно давать score в районе 0.76"
   ]
  },
  {
   "cell_type": "code",
   "execution_count": 58,
   "metadata": {},
   "outputs": [
    {
     "name": "stdout",
     "output_type": "stream",
     "text": [
      "Показатель точности: 0.7877\n"
     ]
    }
   ],
   "source": [
    "# Проверим точность нашего классификатора с помощью sklearn\n",
    "score = accuracy_score(y_test, y_pred)\n",
    "print('Показатель точности: {:.4f}'.format(score))"
   ]
  },
  {
   "cell_type": "code",
   "execution_count": 59,
   "metadata": {},
   "outputs": [
    {
     "name": "stdout",
     "output_type": "stream",
     "text": [
      "Показатель точности классификатора из sklearn: 0.7698\n"
     ]
    }
   ],
   "source": [
    "# Используем класификатор из библиотеки sklearn\n",
    "knn_clf = KNeighborsClassifier(n_neighbors=5)\n",
    "knn_clf.fit(X_train, y_train)\n",
    "y_pred = knn_clf.predict(X_test)\n",
    "score = accuracy_score(y_test, y_pred)\n",
    "print('Показатель точности классификатора из sklearn: {:.4f}'.format(score))"
   ]
  },
  {
   "cell_type": "markdown",
   "metadata": {
    "collapsed": true,
    "jupyter": {
     "outputs_hidden": true
    }
   },
   "source": [
    "**Добавьте еще несколько признаков (как минимум, Cabin, Fare и Embarked) и предобработайте их для нашего алгоритма. Помним, что он метрический и основан на том, что мы будем считать расстояния. \n",
    "Для этого нужно подготовить данные, т.е. привести к одному масштабу и т.д.**\n",
    "\n",
    "https://sebastianraschka.com/Articles/2014_about_feature_scaling.html#about-standardization"
   ]
  },
  {
   "cell_type": "code",
   "execution_count": 60,
   "metadata": {},
   "outputs": [],
   "source": [
    "# Масштабируем признаки Fare и Age\n",
    "df_titanic['Fare_minmax'] = (df_titanic['Fare'] - df_titanic['Fare'].min()) / \\\n",
    "                                (df_titanic['Fare'].max() - df_titanic['Fare'].min())\n",
    "\n",
    "df_titanic['Age_minmax'] = (df_titanic['Age'] - df_titanic['Age'].min()) / \\\n",
    "                                (df_titanic['Age'].max() - df_titanic['Age'].min())"
   ]
  },
  {
   "cell_type": "markdown",
   "metadata": {},
   "source": [
    "**Далее нужно заполнить пропуски.**\n",
    "\n",
    "Н-р, из признака Cabin можно извлечь тип палубы."
   ]
  },
  {
   "cell_type": "code",
   "execution_count": 61,
   "metadata": {},
   "outputs": [],
   "source": [
    "# Добавляем столбец Deck (тип палубы - соответствует 1-й букве в номере кабины) и заполняем пропуски с помощью столбцов \n",
    "# Cabin и Pclass, т.е. вместо NaN вставляем наиболее часто встречающуюся палубу для данного класса Pclass\n",
    "\n",
    "df_titanic['Deck'] = df_titanic[~df_titanic['Cabin'].isnull()]['Cabin'].apply(lambda x: x[0])\n",
    "\n",
    "from collections import Counter\n",
    "\n",
    "pclass1_decks = df_titanic[(df_titanic['Pclass']==1) & (~df_titanic['Deck'].isnull())]['Deck'].values\n",
    "pclass1_most_common_deck = Counter(pclass1_decks).most_common()[0][0]\n",
    "\n",
    "pclass2_decks = df_titanic[(df_titanic['Pclass']==2) & (~df_titanic['Deck'].isnull())]['Deck'].values\n",
    "pclass2_most_common_deck = Counter(pclass2_decks).most_common()[0][0]\n",
    "\n",
    "pclass3_decks = df_titanic[(df_titanic['Pclass']==3) & (~df_titanic['Deck'].isnull())]['Deck'].values\n",
    "pclass3_most_common_deck = Counter(pclass3_decks).most_common()[0][0]\n",
    "\n",
    "''' \n",
    "# Вариант заполнения пропусков с помощью циклов\n",
    "for i in range(len(df_titanic)): \n",
    "    if not pd.isnull(df_titanic.loc[i, 'Deck']):\n",
    "        continue\n",
    "    \n",
    "    if df_titanic.loc[i, 'Pclass']==1:\n",
    "        df_titanic.loc[i,'Deck'] = pclass1_most_common_deck\n",
    "    elif df_titanic.loc[i,'Pclass']==2:\n",
    "        df_titanic.loc[i, 'Deck'] = pclass2_most_common_deck\n",
    "    else:\n",
    "        df_titanic.loc[i, 'Deck'] = pclass3_most_common_deck    \n",
    "'''\n",
    "\n",
    "# Вариант заполнения пропусков с помощью словаря\n",
    "freq_dict = {\n",
    "    1: pclass1_most_common_deck,\n",
    "    2: pclass2_most_common_deck,\n",
    "    3: pclass3_most_common_deck\n",
    "}\n",
    "\n",
    "df_titanic['Deck'] = df_titanic.apply(\n",
    "    lambda row: freq_dict[row['Pclass']] if pd.isnull(row['Deck']) else row['Deck'],\n",
    "    axis=1\n",
    ")\n",
    "\n",
    "# Есть еще 3-й вариант заполнения пропусков - сформировать колонку с частотами, \n",
    "# после чего выполнить df['Deck'].fillna(df_titanic.Frequencies)"
   ]
  },
  {
   "cell_type": "code",
   "execution_count": 62,
   "metadata": {},
   "outputs": [],
   "source": [
    "# Заполняем пропуски для признака Embarked (заменяем NaN на наиболее часто встречающийся порт отправления)\n",
    "ports = df_titanic[~df_titanic['Embarked'].isnull()]['Embarked'].values\n",
    "most_common_port = Counter(ports).most_common()[0][0]\n",
    "df_titanic['Embarked'].fillna(value=most_common_port, inplace=True)"
   ]
  },
  {
   "cell_type": "markdown",
   "metadata": {},
   "source": [
    "**Признаки бывают непрерывными и категориальными. К категориальным признакам можно отнести например строки, тип палубы и прочее.\n",
    "Как их предобрабатывать, зависит от алгоритма. Самый простой способ - one-hot encoding.**"
   ]
  },
  {
   "cell_type": "code",
   "execution_count": 63,
   "metadata": {},
   "outputs": [],
   "source": [
    "# Выполняем one-hot encoding для признака Embarked\n",
    "df_titanic['Embarked_C'] = df_titanic['Embarked'].apply(lambda x: 1 if x=='C' else 0)\n",
    "df_titanic['Embarked_Q'] = df_titanic['Embarked'].apply(lambda x: 1 if x=='Q' else 0)\n",
    "df_titanic['Embarked_S'] = df_titanic['Embarked'].apply(lambda x: 1 if x=='S' else 0)"
   ]
  },
  {
   "cell_type": "code",
   "execution_count": 64,
   "metadata": {},
   "outputs": [
    {
     "name": "stdout",
     "output_type": "stream",
     "text": [
      "['A' 'B' 'C' 'D' 'E' 'F' 'G' 'T']\n"
     ]
    }
   ],
   "source": [
    "# Выполняем one-hot encoding для признака Deck\n",
    "\n",
    "# Сначала выводим все возможные значения этого признака\n",
    "print(np.unique(df_titanic['Deck']))"
   ]
  },
  {
   "cell_type": "code",
   "execution_count": 65,
   "metadata": {},
   "outputs": [],
   "source": [
    "# Выполняем one-hot encoding для признака Deck (продолжение)\n",
    "df_titanic['Deck_A'] = df_titanic['Deck'].apply(lambda x: 1 if x=='A' else 0)\n",
    "df_titanic['Deck_B'] = df_titanic['Deck'].apply(lambda x: 1 if x=='B' else 0)\n",
    "df_titanic['Deck_C'] = df_titanic['Deck'].apply(lambda x: 1 if x=='C' else 0)\n",
    "df_titanic['Deck_D'] = df_titanic['Deck'].apply(lambda x: 1 if x=='D' else 0)\n",
    "df_titanic['Deck_E'] = df_titanic['Deck'].apply(lambda x: 1 if x=='E' else 0)\n",
    "df_titanic['Deck_F'] = df_titanic['Deck'].apply(lambda x: 1 if x=='F' else 0)\n",
    "df_titanic['Deck_G'] = df_titanic['Deck'].apply(lambda x: 1 if x=='G' else 0)\n",
    "df_titanic['Deck_T'] = df_titanic['Deck'].apply(lambda x: 1 if x=='T' else 0)"
   ]
  },
  {
   "cell_type": "code",
   "execution_count": 66,
   "metadata": {},
   "outputs": [],
   "source": [
    "x_columns = ['is_man', 'Age_minmax', 'Pclass', 'Fare_minmax', \\\n",
    "             'Embarked_C', 'Embarked_Q', 'Embarked_S', \\\n",
    "             'Deck_A', 'Deck_B', 'Deck_C','Deck_D', 'Deck_E', 'Deck_F', 'Deck_G', 'Deck_T']\n",
    "\n",
    "assert not np.any(np.isnan(df_titanic[x_columns])), 'у вас в данных есть пропущенные значения. Заполните их или удалите'"
   ]
  },
  {
   "cell_type": "markdown",
   "metadata": {},
   "source": [
    "**Попробуйте разбить данные на три части (трейн-валидацию-тест) и подобрать гиперпараметр - число ближайших соседей. \n",
    "Как вариант, можно выбрать на валидации алгоритм с наилучшим score, а затем посмотреть его качество на тесте.**"
   ]
  },
  {
   "cell_type": "code",
   "execution_count": 69,
   "metadata": {},
   "outputs": [
    {
     "name": "stdout",
     "output_type": "stream",
     "text": [
      "Наибольшая точность нашего классификатора: 0.8250, оптимальное кол-во соседей k: 4\n"
     ]
    }
   ],
   "source": [
    "# Использование кросс-валидации\n",
    "max_score = 0\n",
    "max_score_k = 0\n",
    "\n",
    "# Отводим на тестовую выборку 200 последних строк\n",
    "X_test = df_titanic[x_columns].loc[df_titanic.shape[0]-200:].to_numpy()\n",
    "y_test = df_titanic['Survived'].loc[df_titanic.shape[0]-200:].to_numpy()\n",
    "\n",
    "n_splits = 5 # Параметр кросс-валидации\n",
    "valid_rows_num = round((df_titanic.shape[0]-200) / n_splits) # Кол-во строк в каждом валидационном блоке \n",
    "\n",
    "for k in range(1, 5): # Кол-во ближайших соседей\n",
    "    for n in range(0, n_splits):\n",
    "        X_valid = df_titanic[x_columns].loc[n*valid_rows_num : (n+1)*valid_rows_num].to_numpy()\n",
    "        y_valid = df_titanic['Survived'].loc[n*valid_rows_num : (n+1)*valid_rows_num].to_numpy()\n",
    "        \n",
    "        idx = [i for i in range(n*valid_rows_num, (n+1)*valid_rows_num)]\n",
    "        X_train = df_titanic[x_columns].drop(index=idx).to_numpy()\n",
    "        y_train = df_titanic['Survived'].drop(index=idx).to_numpy()\n",
    "    \n",
    "        my_knn_clf = MyKNNClassifier(k)\n",
    "        my_knn_clf.fit(X_train, y_train)\n",
    "        y_pred = my_knn_clf.predict(X_valid)\n",
    "        score = np.mean(y_pred == y_valid)\n",
    "        if score >= max_score:\n",
    "            max_score = score\n",
    "            max_score_k = k\n",
    "\n",
    "# Проверяем точность на тестовой выборке с найденным кол-вом соседей max_score_k\n",
    "X_train = df_titanic[x_columns].loc[:df_titanic.shape[0]-200].to_numpy()\n",
    "y_train = df_titanic['Survived'].loc[:df_titanic.shape[0]-200].to_numpy()\n",
    "\n",
    "my_knn_clf = MyKNNClassifier(max_score_k)\n",
    "my_knn_clf.fit(X_train, y_train)\n",
    "y_pred = my_knn_clf.predict(X_test)\n",
    "score = np.mean(y_pred == y_test)\n",
    "print('Наибольшая точность нашего классификатора: {:.4f}, оптимальное кол-во соседей k: {}'.format(score, max_score_k))   "
   ]
  },
  {
   "cell_type": "code",
   "execution_count": 70,
   "metadata": {},
   "outputs": [
    {
     "name": "stdout",
     "output_type": "stream",
     "text": [
      "Наибольшая точность классификатора из sklearn: 0.8081\n"
     ]
    }
   ],
   "source": [
    "# Проверим на классификаторе из sklearn\n",
    "X = scale(df_titanic[x_columns].to_numpy())\n",
    "y = df_titanic['Survived'].to_numpy()\n",
    "\n",
    "kf = KFold(n_splits=5, shuffle=True, random_state=42)\n",
    "knn_clf = KNeighborsClassifier(n_neighbors=max_score_k)\n",
    "\n",
    "score = np.mean(cross_val_score(knn_clf, X, y, cv=kf, scoring='accuracy'))\n",
    "print('Наибольшая точность классификатора из sklearn: {:.4f}'.format(score))"
   ]
  },
  {
   "cell_type": "markdown",
   "metadata": {},
   "source": [
    "## Часть 2 - Анализ данных по сердечно-сосудистым заболеваниям <a id=\"part2\"></a>"
   ]
  },
  {
   "cell_type": "markdown",
   "metadata": {},
   "source": [
    "**В задании предлагается с помощью Pandas ответить на несколько вопросов по данным о сердечно-сосудистых заболеваниях (качать данные не надо, они уже есть в репозитории). Данные использовались в соревновании [Ml Boot Camp 5](http://mlbootcamp.ru/round/12/sandbox/).**\n",
    "\n",
    "**Заполните код в клетках (где написано \"Ваш код здесь\") и ответьте на вопросы в [веб-форме](https://docs.google.com/forms/d/1uzbxvBtVjj62oysHGK08Ic5mYtHzyQqUdLN7kwqT12w).**"
   ]
  },
  {
   "cell_type": "markdown",
   "metadata": {},
   "source": [
    "В соревновании предлагалось определить наличие/отсутствие сердечно-сосудистых заболеваний (ССЗ) по результатам осмотра пациента.\n",
    "\n",
    "**Описание данных.**\n",
    "\n",
    "Объективные признаки:\n",
    "\n",
    " - Возраст (age)\n",
    " - Рост (height)\n",
    " - Вес (weight)\n",
    " - Пол (gender)\n",
    " \n",
    "\n",
    "Результаты измерения:\n",
    "\n",
    " - Артериальное давление верхнее и нижнее (ap_hi, ap_lo)\n",
    " - Холестерин (cholesterol)\n",
    " - Глюкоза (gluc)\n",
    " \n",
    "\n",
    "Субъективные признаки (со слов пациентов):\n",
    "\n",
    " - Курение (smoke)\n",
    " - Употребление алкоголя (alco)\n",
    " - Физическая активность (active)\n",
    " \n",
    "Целевой признак (который интересно будет прогнозировать):\n",
    " - Наличие сердечно-сосудистых заболеваний по результатам классического врачебного осмотра (cardio)\n",
    "\n",
    "Значения показателей холестерина и глюкозы представлены одним из трех классов: норма, выше нормы, значительно выше нормы. Значения субъективных признаков — бинарны.\n",
    "\n",
    "Все показатели даны на момент осмотра.\n",
    "\n",
    "Мы будем работать только с обучающей выборкой и с помощью `Pandas` проведем первичный анализ данных. "
   ]
  },
  {
   "cell_type": "code",
   "execution_count": 34,
   "metadata": {},
   "outputs": [],
   "source": [
    "import numpy as np\n",
    "import pandas as pd"
   ]
  },
  {
   "cell_type": "code",
   "execution_count": 35,
   "metadata": {},
   "outputs": [
    {
     "data": {
      "text/html": [
       "<div>\n",
       "<style scoped>\n",
       "    .dataframe tbody tr th:only-of-type {\n",
       "        vertical-align: middle;\n",
       "    }\n",
       "\n",
       "    .dataframe tbody tr th {\n",
       "        vertical-align: top;\n",
       "    }\n",
       "\n",
       "    .dataframe thead th {\n",
       "        text-align: right;\n",
       "    }\n",
       "</style>\n",
       "<table border=\"1\" class=\"dataframe\">\n",
       "  <thead>\n",
       "    <tr style=\"text-align: right;\">\n",
       "      <th></th>\n",
       "      <th>age</th>\n",
       "      <th>gender</th>\n",
       "      <th>height</th>\n",
       "      <th>weight</th>\n",
       "      <th>ap_hi</th>\n",
       "      <th>ap_lo</th>\n",
       "      <th>cholesterol</th>\n",
       "      <th>gluc</th>\n",
       "      <th>smoke</th>\n",
       "      <th>alco</th>\n",
       "      <th>active</th>\n",
       "      <th>cardio</th>\n",
       "    </tr>\n",
       "    <tr>\n",
       "      <th>id</th>\n",
       "      <th></th>\n",
       "      <th></th>\n",
       "      <th></th>\n",
       "      <th></th>\n",
       "      <th></th>\n",
       "      <th></th>\n",
       "      <th></th>\n",
       "      <th></th>\n",
       "      <th></th>\n",
       "      <th></th>\n",
       "      <th></th>\n",
       "      <th></th>\n",
       "    </tr>\n",
       "  </thead>\n",
       "  <tbody>\n",
       "    <tr>\n",
       "      <th>0</th>\n",
       "      <td>18393</td>\n",
       "      <td>2</td>\n",
       "      <td>168</td>\n",
       "      <td>62.0</td>\n",
       "      <td>110</td>\n",
       "      <td>80</td>\n",
       "      <td>1</td>\n",
       "      <td>1</td>\n",
       "      <td>0</td>\n",
       "      <td>0</td>\n",
       "      <td>1</td>\n",
       "      <td>0</td>\n",
       "    </tr>\n",
       "    <tr>\n",
       "      <th>1</th>\n",
       "      <td>20228</td>\n",
       "      <td>1</td>\n",
       "      <td>156</td>\n",
       "      <td>85.0</td>\n",
       "      <td>140</td>\n",
       "      <td>90</td>\n",
       "      <td>3</td>\n",
       "      <td>1</td>\n",
       "      <td>0</td>\n",
       "      <td>0</td>\n",
       "      <td>1</td>\n",
       "      <td>1</td>\n",
       "    </tr>\n",
       "    <tr>\n",
       "      <th>2</th>\n",
       "      <td>18857</td>\n",
       "      <td>1</td>\n",
       "      <td>165</td>\n",
       "      <td>64.0</td>\n",
       "      <td>130</td>\n",
       "      <td>70</td>\n",
       "      <td>3</td>\n",
       "      <td>1</td>\n",
       "      <td>0</td>\n",
       "      <td>0</td>\n",
       "      <td>0</td>\n",
       "      <td>1</td>\n",
       "    </tr>\n",
       "    <tr>\n",
       "      <th>3</th>\n",
       "      <td>17623</td>\n",
       "      <td>2</td>\n",
       "      <td>169</td>\n",
       "      <td>82.0</td>\n",
       "      <td>150</td>\n",
       "      <td>100</td>\n",
       "      <td>1</td>\n",
       "      <td>1</td>\n",
       "      <td>0</td>\n",
       "      <td>0</td>\n",
       "      <td>1</td>\n",
       "      <td>1</td>\n",
       "    </tr>\n",
       "    <tr>\n",
       "      <th>4</th>\n",
       "      <td>17474</td>\n",
       "      <td>1</td>\n",
       "      <td>156</td>\n",
       "      <td>56.0</td>\n",
       "      <td>100</td>\n",
       "      <td>60</td>\n",
       "      <td>1</td>\n",
       "      <td>1</td>\n",
       "      <td>0</td>\n",
       "      <td>0</td>\n",
       "      <td>0</td>\n",
       "      <td>0</td>\n",
       "    </tr>\n",
       "  </tbody>\n",
       "</table>\n",
       "</div>"
      ],
      "text/plain": [
       "      age  gender  height  weight  ap_hi  ap_lo  cholesterol  gluc  smoke  \\\n",
       "id                                                                          \n",
       "0   18393       2     168    62.0    110     80            1     1      0   \n",
       "1   20228       1     156    85.0    140     90            3     1      0   \n",
       "2   18857       1     165    64.0    130     70            3     1      0   \n",
       "3   17623       2     169    82.0    150    100            1     1      0   \n",
       "4   17474       1     156    56.0    100     60            1     1      0   \n",
       "\n",
       "    alco  active  cardio  \n",
       "id                        \n",
       "0      0       1       0  \n",
       "1      0       1       1  \n",
       "2      0       0       1  \n",
       "3      0       1       1  \n",
       "4      0       0       0  "
      ]
     },
     "execution_count": 35,
     "metadata": {},
     "output_type": "execute_result"
    }
   ],
   "source": [
    "df = pd.read_csv('mlbootcamp5_train.csv', sep=';', index_col='id')\n",
    "df.head()"
   ]
  },
  {
   "cell_type": "code",
   "execution_count": 36,
   "metadata": {},
   "outputs": [
    {
     "name": "stdout",
     "output_type": "stream",
     "text": [
      "<class 'pandas.core.frame.DataFrame'>\n",
      "Int64Index: 70000 entries, 0 to 99999\n",
      "Data columns (total 12 columns):\n",
      " #   Column       Non-Null Count  Dtype  \n",
      "---  ------       --------------  -----  \n",
      " 0   age          70000 non-null  int64  \n",
      " 1   gender       70000 non-null  int64  \n",
      " 2   height       70000 non-null  int64  \n",
      " 3   weight       70000 non-null  float64\n",
      " 4   ap_hi        70000 non-null  int64  \n",
      " 5   ap_lo        70000 non-null  int64  \n",
      " 6   cholesterol  70000 non-null  int64  \n",
      " 7   gluc         70000 non-null  int64  \n",
      " 8   smoke        70000 non-null  int64  \n",
      " 9   alco         70000 non-null  int64  \n",
      " 10  active       70000 non-null  int64  \n",
      " 11  cardio       70000 non-null  int64  \n",
      "dtypes: float64(1), int64(11)\n",
      "memory usage: 6.9 MB\n"
     ]
    }
   ],
   "source": [
    "df.info()"
   ]
  },
  {
   "cell_type": "markdown",
   "metadata": {},
   "source": [
    "**<font color='red'>Вопрос 1 (1 балл).</font> Сколько мужчин и женщин представлено в этом наборе данных? Не было дано расшифровки признака \"пол\" (какому полу соответствует 1, а какому – 2 в признаке ``gender``) – это определите, посмотрев также на рост при разумном предположении, что в среднем мужчины выше.**"
   ]
  },
  {
   "cell_type": "markdown",
   "metadata": {},
   "source": [
    "**<font color='red'>Варианты:</font>**\n",
    "- 45530 женщин и 24470 мужчин\n",
    "- 45530 мужчин и 24470 женщин\n",
    "- 45470 женщин и 24530 мужчин\n",
    "- 45470 мужчин и 24530 женщин"
   ]
  },
  {
   "cell_type": "code",
   "execution_count": 37,
   "metadata": {},
   "outputs": [
    {
     "name": "stdout",
     "output_type": "stream",
     "text": [
      "Ответ на вопрос №1: 45530 женщин и 24470 мужчин\n"
     ]
    }
   ],
   "source": [
    "# Ваш код здесь\n",
    "gender1_avg_height = df[df['gender']==1]['height'].mean()\n",
    "gender2_avg_height = df[df['gender']==2]['height'].mean()\n",
    "\n",
    "if gender1_avg_height > gender2_avg_height:\n",
    "    m_gender = 1\n",
    "    f_gender = 2\n",
    "else:\n",
    "    m_gender = 2\n",
    "    f_gender = 1\n",
    "\n",
    "m_num = len(df[df['gender']==m_gender])\n",
    "f_num = len(df[df['gender']==f_gender])\n",
    "\n",
    "if m_num > f_num:\n",
    "    print('Ответ на вопрос №1: {} мужчин и {} женщин'.format(m_num, f_num))\n",
    "else:\n",
    "    print('Ответ на вопрос №1: {} женщин и {} мужчин'.format(f_num, m_num))"
   ]
  },
  {
   "cell_type": "markdown",
   "metadata": {},
   "source": [
    "**<font color='red'>Вопрос 2 (1 балл).</font> Кто в среднем чаще указывает, что употребляет алкоголь – мужчины или женщины?**"
   ]
  },
  {
   "cell_type": "markdown",
   "metadata": {},
   "source": [
    "**<font color='red'>Варианты:</font>**\n",
    "- мужчины \n",
    "- женщины"
   ]
  },
  {
   "cell_type": "code",
   "execution_count": 38,
   "metadata": {},
   "outputs": [
    {
     "name": "stdout",
     "output_type": "stream",
     "text": [
      "Ответ на вопрос №2: мужчины\n"
     ]
    }
   ],
   "source": [
    "# Ваш код здесь\n",
    "m_alco_num = len(df[(df['gender']==m_gender) & (df['alco']==1)])\n",
    "f_alco_num = len(df[(df['gender']==f_gender) & (df['alco']==1)])\n",
    "\n",
    "if m_alco_num > f_alco_num:\n",
    "    print('Ответ на вопрос №2: мужчины')\n",
    "else:\n",
    "    print('Ответ на вопрос №2: женщины')"
   ]
  },
  {
   "cell_type": "markdown",
   "metadata": {},
   "source": [
    "**<font color='red'>Вопрос 3 (1 балл).</font> Во сколько раз (округленно, `round`) процент курящих среди мужчин больше, чем процент курящих среди женщин (по крайней мере, по этим анкетным данным)?**"
   ]
  },
  {
   "cell_type": "markdown",
   "metadata": {},
   "source": [
    "**<font color='red'>Варианты:</font>**\n",
    "- 4\n",
    "- 8\n",
    "- 12\n",
    "- 16"
   ]
  },
  {
   "cell_type": "code",
   "execution_count": 39,
   "metadata": {},
   "outputs": [
    {
     "name": "stdout",
     "output_type": "stream",
     "text": [
      "Ответ на вопрос №3: 12\n"
     ]
    }
   ],
   "source": [
    "# Ваш код здесь\n",
    "m_smoke_num = len(df[(df['gender']==m_gender) & (df['smoke']==1)])\n",
    "m_smoke_perc = m_smoke_num / m_num * 100\n",
    "\n",
    "f_smoke_num = len(df[(df['gender']==f_gender) & (df['smoke']==1)])\n",
    "f_smoke_perc = f_smoke_num / f_num * 100\n",
    "\n",
    "print('Ответ на вопрос №3: {}'.format(round(m_smoke_perc / f_smoke_perc)))"
   ]
  },
  {
   "cell_type": "markdown",
   "metadata": {},
   "source": [
    "**<font color='red'>Вопрос 4 (1 балл).</font> Вы наверняка заметили, что значения возраста какие-то странные. Догадайтесь, в чем здесь измеряется возраст, и ответьте, на сколько месяцев (примерно) отличаются медианные значения возраста курящих и некурящих.**"
   ]
  },
  {
   "cell_type": "code",
   "execution_count": null,
   "metadata": {},
   "outputs": [],
   "source": [
    "**<font color='red'>Варианты:</font>**\n",
    "- 5\n",
    "- 10\n",
    "- 15\n",
    "- 20"
   ]
  },
  {
   "cell_type": "code",
   "execution_count": 40,
   "metadata": {},
   "outputs": [
    {
     "name": "stdout",
     "output_type": "stream",
     "text": [
      "Средний возраст в выборке в годах: 53\n"
     ]
    }
   ],
   "source": [
    "# Очевидно, что возраст измеряется в днях\n",
    "print('Средний возраст в выборке в годах: {}'.format(round(df['age'].mean() / 365)))"
   ]
  },
  {
   "cell_type": "code",
   "execution_count": 41,
   "metadata": {},
   "outputs": [
    {
     "name": "stdout",
     "output_type": "stream",
     "text": [
      "Ответ на вопрос №4: 20\n"
     ]
    }
   ],
   "source": [
    "# Ваш код здесь\n",
    "nonsmoke_median_age = df[df['smoke']==0]['age'].median()\n",
    "smoke_median_age = df[df['smoke']==1]['age'].median()\n",
    "\n",
    "age_diff_months = (nonsmoke_median_age - smoke_median_age) / 30\n",
    "print('Ответ на вопрос №4: {}'.format(round(age_diff_months)))"
   ]
  },
  {
   "cell_type": "markdown",
   "metadata": {},
   "source": [
    "**<font color='red'>Вопрос 5 (2 балла).</font>** В [статье](https://ru.wikipedia.org/wiki/Сердечно-сосудистый_риск) на Википедии про сердечно-сосудистый риск показана шкала SCORE для расчёта риска смерти от сердечно-сосудистого заболевания в ближайшие 10 лет.\n",
    "\n",
    "Давайте посмотрим на правый верхний прямоугольник, отображающий сегмент курящих мужчин в возрасте от 60 до 64 лет включительно. (Неочевидно, но тут для возраста и давления цифры означают верхнюю границу, и она не включается).\n",
    "\n",
    "Видим 9-ку в левом нижнем углу этого прямоугольника и 47 – в правом верхнем. То есть если при этом систолическое (т.е. верхнее) артериальное давление – меньше 120 мм рт.ст., а уровень холестерина – 4 ммоль/л, то риск ССЗ оценивается примерно в 5 раз ниже, чем если бы давление лежало в интервале [160, 180), а холестерина было бы 8 ммоль/л.\n",
    "\n",
    "Давайте посчитаем аналогичное значение, но на наших данных. \n",
    "\n",
    "Уточнения:\n",
    "- Посчитайте признак ``age_years`` – возраст в годах, округлив до целых (`round`). Для данного примера отберите курящих мужчин от 60 до 64 лет включительно\n",
    "- Категории уровня холестрина на рисунке и в наших данных отличаются. Отображение значений на картинке в значения признака ``cholesterol`` следующее: 4 ммоль/л $\\rightarrow$ 1, 5-7 ммоль/л $\\rightarrow$ 2, 8 ммоль/л $\\rightarrow$ 3.\n",
    "- Интересуют 2 подвыборки курящих мужчин возраста от 60 до 64 лет: первая с верхним артериальным давлением меньше 120 мм рт.ст. и концентрацией холестерина – 4 ммоль/л, а вторая – с верхним артериальным давлением от 160 до 180 мм рт.ст. (не включая верхнюю границу) и концентрацией холестерина – 8 ммоль/л.\n",
    "\n",
    "**Во сколько раз (округленно, `round`) отличаются доли больных людей в этих двух подвыборках? Посчитайте на наших данных.**"
   ]
  },
  {
   "cell_type": "markdown",
   "metadata": {},
   "source": [
    "**<font color='red'>Варианты:</font>**\n",
    "- 2\n",
    "- 3\n",
    "- 4\n",
    "- 5"
   ]
  },
  {
   "cell_type": "code",
   "execution_count": 42,
   "metadata": {},
   "outputs": [
    {
     "name": "stdout",
     "output_type": "stream",
     "text": [
      "Ответ на вопрос №5: 3\n"
     ]
    }
   ],
   "source": [
    "# Ваш код здесь\n",
    "df['age_years'] = round(df['age'] / 365)\n",
    "\n",
    "sample1_sick_num = df[(df['age_years']>=60) & (df['age_years']<=64) & (df['smoke']==1) & \n",
    "                      (df['ap_hi']<120) & (df['cholesterol']==1)]['cardio'].sum()\n",
    "\n",
    "sample1_num = len(df[(df['age_years']>=60) & (df['age_years']<=64) & (df['smoke']==1) & \n",
    "                      (df['ap_hi']<120) & (df['cholesterol']==1)])\n",
    "\n",
    "\n",
    "sample2_sick_num = df[(df['age_years']>=60) & (df['age_years']<=64) & (df['smoke']==1) & \n",
    "                      (df['ap_hi']>=160) & (df['ap_hi']<180) &\n",
    "                      (df['cholesterol']==3)]['cardio'].sum()\n",
    "\n",
    "sample2_num = len(df[(df['age_years']>=60) & (df['age_years']<=64) & (df['smoke']==1) & \n",
    "                      (df['ap_hi']>=160) & (df['ap_hi']<180) &\n",
    "                      (df['cholesterol']==3)])\n",
    "\n",
    "\n",
    "sample1_sick_perc = sample1_sick_num / sample1_num\n",
    "sample2_sick_perc = sample2_sick_num / sample2_num\n",
    "\n",
    "print('Ответ на вопрос №5: {}'.format(round(sample2_sick_perc/sample1_sick_perc)))"
   ]
  },
  {
   "cell_type": "markdown",
   "metadata": {},
   "source": [
    "**<font color='red'>Вопрос 6 (2 балла).</font> Постройте новый признак – BMI ([Body Mass Index](https://en.wikipedia.org/wiki/Body_mass_index)). Для этого надо вес в килограммах поделить на квадрат роста в метрах. Нормальными считаются значения BMI от 18.5 до 25. Выберите верные утверждения.**"
   ]
  },
  {
   "cell_type": "markdown",
   "metadata": {},
   "source": [
    "**<font color='red'>Утверждения:</font>**\n",
    "- Медианный BMI по выборке лежит в пределах нормы\n",
    "- У женщин в среднем BMI выше, чем у мужчин\n",
    "- У здоровых в среднем BMI выше, чем у больных\n",
    "- В сегменте здоровых и непьющих мужчин BMI ближе к норме, чем в сегменте здоровых и непьющих женщин"
   ]
  },
  {
   "cell_type": "code",
   "execution_count": 43,
   "metadata": {},
   "outputs": [
    {
     "name": "stdout",
     "output_type": "stream",
     "text": [
      "Ответы на вопрос №6:\n",
      "\n",
      "- Медианный BMI по выборке лежит в пределах нормы: False\n",
      "\n",
      "- У женщин в среднем BMI выше, чем у мужчин: True\n",
      "\n",
      "- У здоровых в среднем BMI выше, чем у больных: False\n",
      "\n",
      "Средний BMI в сегменте здоровых и непьющих мужчин: 25.87\n",
      "Средний BMI в сегменте здоровых и непьющих женщин: 26.85\n",
      "- В сегменте здоровых и непьющих мужчин BMI ближе к норме, чем в сегменте здоровых и непьющих женщин: True\n"
     ]
    }
   ],
   "source": [
    "# Ваш код здесь\n",
    "df['BMI'] = df['weight'] / (df['height']/100)**2\n",
    "\n",
    "print('Ответы на вопрос №6:\\n')\n",
    "\n",
    "bmi_1 = df['BMI'].median()\n",
    "print('- Медианный BMI по выборке лежит в пределах нормы: {}\\n'.format((bmi_1>=18.5) & (bmi_1<=25)))\n",
    "\n",
    "bmi_2_f = df[df['gender']==f_gender]['BMI'].mean()\n",
    "bmi_2_m = df[df['gender']==m_gender]['BMI'].mean()\n",
    "print('- У женщин в среднем BMI выше, чем у мужчин: {}\\n'.format(bmi_2_f > bmi_2_m))\n",
    "\n",
    "bmi_3_healthy = df[df['cardio']==0]['BMI'].mean()\n",
    "bmi_3_sick = df[df['cardio']==1]['BMI'].mean()\n",
    "print('- У здоровых в среднем BMI выше, чем у больных: {}\\n'.format(bmi_3_healthy > bmi_3_sick))\n",
    "\n",
    "bmi_4_m = df[(df['cardio']==0) & (df['alco']==0) & (df['gender']==m_gender)]['BMI'].mean()\n",
    "bmi_4_f = df[(df['cardio']==0) & (df['alco']==0) & (df['gender']==f_gender)]['BMI'].mean()\n",
    "print('Средний BMI в сегменте здоровых и непьющих мужчин: {:.2f}'.format(bmi_4_m))\n",
    "print('Средний BMI в сегменте здоровых и непьющих женщин: {:.2f}'.format(bmi_4_f))\n",
    "print('- В сегменте здоровых и непьющих мужчин BMI ближе к норме, чем в сегменте здоровых и непьющих женщин: {}'.\\\n",
    "     format(bmi_4_m < bmi_4_f))"
   ]
  },
  {
   "cell_type": "markdown",
   "metadata": {},
   "source": [
    "**<font color='red'>Вопрос 7 (2 балла).</font>** Можно заметить, что данные не особо-то чистые, много в них всякой \"грязи\" и неточностей. Еще лучше мы это увидим, когда обсудим визуализацию данных.\n",
    "\n",
    "Отфильтруйте следующие сегменты пациентов (считаем это ошибками в данных)\n",
    "- указанное нижнее значение артериального давления выше верхнего\n",
    "- рост строго меньше 2.5%-перцентили или строго больше 97.5%-перцентили (используйте `pd.Series.quantile`, если не знаете, что это такое – прочитайте)\n",
    "- вес строго меньше 2.5%-перцентили или строго больше 97.5%-перцентили\n",
    "\n",
    "Этот вовсе не вся чистка данных, которую можно было проделать, но пока остановимся на этом.\n",
    "\n",
    "**Сколько процентов данных (округленно, `round`) мы выбросили?**"
   ]
  },
  {
   "cell_type": "markdown",
   "metadata": {},
   "source": [
    "**<font color='red'>Варианты:</font>**\n",
    "- 8\n",
    "- 9\n",
    "- 10\n",
    "- 11"
   ]
  },
  {
   "cell_type": "code",
   "execution_count": 44,
   "metadata": {},
   "outputs": [
    {
     "name": "stdout",
     "output_type": "stream",
     "text": [
      "Ответ на вопрос №7: 10\n"
     ]
    }
   ],
   "source": [
    "# Ваш код здесь\n",
    "dirty_df = df[(df['ap_lo']>df['ap_hi']) | \n",
    "              (df['height']<df['height'].quantile(q=0.025)) | \n",
    "              (df['height']>df['height'].quantile(q=0.975)) | \n",
    "              (df['weight']<df['weight'].quantile(q=0.025)) | \n",
    "              (df['weight']>df['weight'].quantile(q=0.975))]\n",
    "\n",
    "print('Ответ на вопрос №7: {}'.format(round(len(dirty_df) / len(df) * 100)))"
   ]
  }
 ],
 "metadata": {
  "kernelspec": {
   "display_name": "Python 3 (ipykernel)",
   "language": "python",
   "name": "python3"
  },
  "language_info": {
   "codemirror_mode": {
    "name": "ipython",
    "version": 3
   },
   "file_extension": ".py",
   "mimetype": "text/x-python",
   "name": "python",
   "nbconvert_exporter": "python",
   "pygments_lexer": "ipython3",
   "version": "3.11.7"
  }
 },
 "nbformat": 4,
 "nbformat_minor": 4
}
